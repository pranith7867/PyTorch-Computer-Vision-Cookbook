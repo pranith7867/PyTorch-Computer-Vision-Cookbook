{
  "nbformat": 4,
  "nbformat_minor": 0,
  "metadata": {
    "colab": {
      "name": "binary classification version 3",
      "provenance": [],
      "authorship_tag": "ABX9TyOydVcMZVUFMPqEC8XFu7+u",
      "include_colab_link": true
    },
    "kernelspec": {
      "name": "python3",
      "display_name": "Python 3"
    },
    "language_info": {
      "name": "python"
    },
    "accelerator": "GPU"
  },
  "cells": [
    {
      "cell_type": "markdown",
      "metadata": {
        "id": "view-in-github",
        "colab_type": "text"
      },
      "source": [
        "<a href=\"https://colab.research.google.com/github/pranith7867/PyTorch-Computer-Vision-Cookbook/blob/master/Dogs-vs-Cata.ipynb\" target=\"_parent\"><img src=\"https://colab.research.google.com/assets/colab-badge.svg\" alt=\"Open In Colab\"/></a>"
      ]
    },
    {
      "cell_type": "markdown",
      "metadata": {
        "id": "NkDV_hsUnloj"
      },
      "source": [
        "#Data processing\n"
      ]
    },
    {
      "cell_type": "code",
      "metadata": {
        "id": "bWMn18jbAXzc"
      },
      "source": [
        "!pip install opendatasets --upgrade --quiet\n"
      ],
      "execution_count": 1,
      "outputs": []
    },
    {
      "cell_type": "code",
      "metadata": {
        "colab": {
          "base_uri": "https://localhost:8080/"
        },
        "id": "rem6AL0lfwHq",
        "outputId": "81f3bb4f-322c-4670-8843-2312ba633915"
      },
      "source": [
        "import opendatasets as od\n",
        "dataset_url = \"https://www.kaggle.com/c/dogs-vs-cats-redux-kernels-edition/data\"\n",
        "od.download(dataset_url)\n",
        "# 18053a5c5a08203aeb457de2f5efac0f"
      ],
      "execution_count": 2,
      "outputs": [
        {
          "output_type": "stream",
          "name": "stdout",
          "text": [
            "Please provide your Kaggle credentials to download this dataset. Learn more: http://bit.ly/kaggle-creds\n",
            "Your Kaggle username: pashikantipranith\n",
            "Your Kaggle Key: ··········\n",
            "Downloading dogs-vs-cats-redux-kernels-edition.zip to ./dogs-vs-cats-redux-kernels-edition\n"
          ]
        },
        {
          "output_type": "stream",
          "name": "stderr",
          "text": [
            "100%|██████████| 814M/814M [00:06<00:00, 128MB/s]\n"
          ]
        },
        {
          "output_type": "stream",
          "name": "stdout",
          "text": [
            "\n",
            "Extracting archive ./dogs-vs-cats-redux-kernels-edition/dogs-vs-cats-redux-kernels-edition.zip to ./dogs-vs-cats-redux-kernels-edition\n"
          ]
        }
      ]
    },
    {
      "cell_type": "code",
      "metadata": {
        "id": "rJt-b74Ffypi"
      },
      "source": [
        "!unzip \"/content/Dogs-vs-Cats/data/train.zip\" -d \"/content/Dogs-vs-Cats/data\" &> /dev/null"
      ],
      "execution_count": 3,
      "outputs": []
    },
    {
      "cell_type": "code",
      "metadata": {
        "id": "Yy8me8u1g1fT"
      },
      "source": [
        "!unzip \"/content/Dogs-vs-Cats/data/test.zip\" -d \"/content/Dogs-vs-Cats/data\" &> /dev/null"
      ],
      "execution_count": 4,
      "outputs": []
    },
    {
      "cell_type": "code",
      "metadata": {
        "id": "fX21MYP3hU9O"
      },
      "source": [
        "import os"
      ],
      "execution_count": 5,
      "outputs": []
    },
    {
      "cell_type": "code",
      "metadata": {
        "id": "xyciOIMVBczo"
      },
      "source": [
        "os.mkdir(os.path.join(\"/content/Dogs-vs-Cats/data/test\",\"test\"))"
      ],
      "execution_count": 6,
      "outputs": []
    },
    {
      "cell_type": "code",
      "metadata": {
        "id": "FBJlxctghlIW"
      },
      "source": [
        "os.mkdir(os.path.join(\"/content/Dogs-vs-Cats/data/train\",\"cats\"))\n",
        "os.mkdir(os.path.join(\"/content/Dogs-vs-Cats/data/train\",\"dogs\"))"
      ],
      "execution_count": 7,
      "outputs": []
    },
    {
      "cell_type": "code",
      "metadata": {
        "id": "aE39x2CohvhD"
      },
      "source": [
        "os.mkdir(os.path.join(\"/content/Dogs-vs-Cats/data\",\"valid\"))\n",
        "os.mkdir(os.path.join(\"/content/Dogs-vs-Cats/data/valid\",\"cats\"))\n",
        "os.mkdir(os.path.join(\"/content/Dogs-vs-Cats/data/valid\",\"dogs\"))"
      ],
      "execution_count": 8,
      "outputs": []
    },
    {
      "cell_type": "code",
      "metadata": {
        "id": "dIMar4U3h5iH"
      },
      "source": [
        "train_dir = \"/content/Dogs-vs-Cats/data/train\""
      ],
      "execution_count": 9,
      "outputs": []
    },
    {
      "cell_type": "code",
      "metadata": {
        "id": "IifRaClOiY97"
      },
      "source": [
        "import os\n",
        "import pandas as pd\n",
        "import numpy as np\n",
        "import seaborn as sns\n",
        "import random\n",
        "import torch\n",
        "import torchvision\n",
        "import torch.nn as nn\n",
        "import torch.optim as optim\n",
        "import torch.nn.functional as F\n",
        "from torchvision.datasets.utils import download_url\n",
        "from torch.utils.data import random_split\n",
        "from tqdm.notebook import tqdm\n",
        "from torchvision import transforms, utils, datasets\n",
        "from torch.utils.data import Dataset, DataLoader, SubsetRandomSampler\n",
        "from sklearn.metrics import classification_report, confusion_matrix\n",
        "import matplotlib.pyplot as plt\n",
        "%matplotlib inline"
      ],
      "execution_count": 10,
      "outputs": []
    },
    {
      "cell_type": "code",
      "metadata": {
        "colab": {
          "base_uri": "https://localhost:8080/"
        },
        "id": "kPtmXfmgibZA",
        "outputId": "bf098698-e388-4e89-b6a5-db33d220f5d3"
      },
      "source": [
        "import os\n",
        "# train_dir = \"./data/train\"\n",
        "train_dogs_dir = f'{train_dir}/dogs'\n",
        "train_cats_dir = f'{train_dir}/cats'\n",
        "val_dir = \"/content/Dogs-vs-Cats/data/valid\"\n",
        "val_dogs_dir = f'{val_dir}/dogs'\n",
        "val_cats_dir = f'{val_dir}/cats'\n",
        "print(\"Printing data dir\")\n",
        "print(os.listdir(\"/content/Dogs-vs-Cats/data\"))\n",
        "print(\"Printing train dir\")\n",
        "!ls {train_dir} | head -n 5\n",
        "print(\"Printing train dog dir\")\n",
        "!ls {train_dogs_dir} | head -n 5\n",
        "print(\"Printing train cat dir\")\n",
        "!ls {train_cats_dir} | head -n 5\n",
        "print(\"Printing val dir\")\n",
        "!ls {val_dir} | head -n 5\n",
        "print(\"Printing val dog dir\")\n",
        "!ls {val_dogs_dir} | head -n 5\n",
        "print(\"Printing val cat dir\")\n",
        "!ls {val_cats_dir} | head -n 5"
      ],
      "execution_count": 11,
      "outputs": [
        {
          "output_type": "stream",
          "name": "stdout",
          "text": [
            "Printing data dir\n",
            "['sample_submission.csv', 'valid', 'test', 'train', 'train.zip', 'test.zip']\n",
            "Printing train dir\n",
            "cat.0.jpg\n",
            "cat.10000.jpg\n",
            "cat.10001.jpg\n",
            "cat.10002.jpg\n",
            "cat.10003.jpg\n",
            "Printing train dog dir\n",
            "Printing train cat dir\n",
            "Printing val dir\n",
            "cats\n",
            "dogs\n",
            "Printing val dog dir\n",
            "Printing val cat dir\n"
          ]
        }
      ]
    },
    {
      "cell_type": "code",
      "metadata": {
        "id": "E1BpUV63igBI"
      },
      "source": [
        "import shutil\n",
        "import re\n",
        "\n",
        "files = os.listdir(train_dir)\n",
        "\n",
        "# Move all train cat images to cats folder, dog images to dogs folder\n",
        "for f in files:\n",
        "    catSearchObj = re.search(\"cat\", f)\n",
        "    dogSearchObj = re.search(\"dog\", f)\n",
        "    if catSearchObj:\n",
        "        shutil.move(f'{train_dir}/{f}', train_cats_dir)\n",
        "    elif dogSearchObj:\n",
        "        shutil.move(f'{train_dir}/{f}', train_dogs_dir)"
      ],
      "execution_count": 12,
      "outputs": []
    },
    {
      "cell_type": "code",
      "metadata": {
        "colab": {
          "base_uri": "https://localhost:8080/"
        },
        "id": "Go2k924vjNem",
        "outputId": "3b34404b-91a8-4184-af0e-a142ec0500b3"
      },
      "source": [
        "print(\"Printing training cats dir\")\n",
        "!ls {train_cats_dir} | head -n 5"
      ],
      "execution_count": 13,
      "outputs": [
        {
          "output_type": "stream",
          "name": "stdout",
          "text": [
            "Printing training cats dir\n",
            "cat.0.jpg\n",
            "cat.10000.jpg\n",
            "cat.10001.jpg\n",
            "cat.10002.jpg\n",
            "cat.10003.jpg\n"
          ]
        }
      ]
    },
    {
      "cell_type": "code",
      "metadata": {
        "colab": {
          "base_uri": "https://localhost:8080/"
        },
        "id": "7qd9Z0FQjIod",
        "outputId": "bda7d7df-fe97-4f38-9883-0374994c7718"
      },
      "source": [
        "print(\"Printing train dog dir\")\n",
        "!ls {train_dogs_dir} | head -n 5"
      ],
      "execution_count": 14,
      "outputs": [
        {
          "output_type": "stream",
          "name": "stdout",
          "text": [
            "Printing train dog dir\n",
            "dog.0.jpg\n",
            "dog.10000.jpg\n",
            "dog.10001.jpg\n",
            "dog.10002.jpg\n",
            "dog.10003.jpg\n"
          ]
        }
      ]
    },
    {
      "cell_type": "code",
      "metadata": {
        "id": "2uclwKniiwiF"
      },
      "source": [
        "files = os.listdir(train_dogs_dir)\n",
        "\n",
        "for f in files:\n",
        "    validationDogsSearchObj = re.search(\"5\\d\\d\\d\", f)\n",
        "    if validationDogsSearchObj:\n",
        "        shutil.move(f'{train_dogs_dir}/{f}', val_dogs_dir)"
      ],
      "execution_count": 15,
      "outputs": []
    },
    {
      "cell_type": "code",
      "metadata": {
        "colab": {
          "base_uri": "https://localhost:8080/"
        },
        "id": "af079yh0i1u1",
        "outputId": "b60b844c-b35f-4e8f-806e-a873b5f05ad0"
      },
      "source": [
        "print(\"Printing val dog dir\")\n",
        "!ls {val_dogs_dir} | head -n 5"
      ],
      "execution_count": 16,
      "outputs": [
        {
          "output_type": "stream",
          "name": "stdout",
          "text": [
            "Printing val dog dir\n",
            "dog.5000.jpg\n",
            "dog.5001.jpg\n",
            "dog.5002.jpg\n",
            "dog.5003.jpg\n",
            "dog.5004.jpg\n"
          ]
        }
      ]
    },
    {
      "cell_type": "code",
      "metadata": {
        "id": "oOdWwfYOjGQ5"
      },
      "source": [
        "files = os.listdir(train_cats_dir)\n",
        "\n",
        "for f in files:\n",
        "    validationCatsSearchObj = re.search(\"5\\d\\d\\d\", f)\n",
        "    if validationCatsSearchObj:\n",
        "        shutil.move(f'{train_cats_dir}/{f}', val_cats_dir)"
      ],
      "execution_count": 17,
      "outputs": []
    },
    {
      "cell_type": "code",
      "metadata": {
        "colab": {
          "base_uri": "https://localhost:8080/"
        },
        "id": "qu3V6Kgqi6Be",
        "outputId": "187696e7-d38f-4ccc-976a-2e25bc141183"
      },
      "source": [
        "print(\"Printing val cats dir\")\n",
        "!ls {val_cats_dir} | head -n 5"
      ],
      "execution_count": 18,
      "outputs": [
        {
          "output_type": "stream",
          "name": "stdout",
          "text": [
            "Printing val cats dir\n",
            "cat.5000.jpg\n",
            "cat.5001.jpg\n",
            "cat.5002.jpg\n",
            "cat.5003.jpg\n",
            "cat.5004.jpg\n"
          ]
        }
      ]
    },
    {
      "cell_type": "code",
      "metadata": {
        "id": "4oPTpGNJj5wL"
      },
      "source": [
        "test_dir = \"./Dogs-vs-Cats/data/test/test\"\n",
        "files = os.listdir(\"./Dogs-vs-Cats/data/test\")\n",
        "\n",
        "for f in files:\n",
        "  shutil.move(f'{\"./Dogs-vs-Cats/data/test\"}/{f}', test_dir)"
      ],
      "execution_count": 19,
      "outputs": []
    },
    {
      "cell_type": "code",
      "metadata": {
        "colab": {
          "base_uri": "https://localhost:8080/"
        },
        "id": "Fi8CkSH3i-Wo",
        "outputId": "45ec863a-acc9-4466-fa59-0f079cb64cf2"
      },
      "source": [
        "test_dir = \"./Dogs-vs-Cats/data/test/test\"\n",
        "print(\"Printing from test dir\")\n",
        "!ls {test_dir} | head -n 5"
      ],
      "execution_count": 20,
      "outputs": [
        {
          "output_type": "stream",
          "name": "stdout",
          "text": [
            "Printing from test dir\n",
            "10000.jpg\n",
            "10001.jpg\n",
            "10002.jpg\n",
            "10003.jpg\n",
            "10004.jpg\n"
          ]
        }
      ]
    },
    {
      "cell_type": "markdown",
      "metadata": {
        "id": "kqFpY1ttnfCs"
      },
      "source": [
        "#Load Data\n"
      ]
    },
    {
      "cell_type": "code",
      "metadata": {
        "id": "-MKyCRGmjsj9"
      },
      "source": [
        "\n",
        "import os\n",
        "import random\n",
        "import collections\n",
        "import shutil\n",
        "import time\n",
        "import glob\n",
        "import csv\n",
        "import numpy as np\n",
        "\n",
        "import torch\n",
        "import torch.backends.cudnn as cudnn\n",
        "import torch.nn as nn\n",
        "import torch.optim as optim\n",
        "import torch.utils.data as data\n",
        "import torchvision.datasets as datasets\n",
        "import torchvision.models as models\n",
        "import torchvision.transforms as transforms\n",
        "\n",
        "from PIL import Image\n",
        "\n",
        "ROOT_DIR = os.getcwd()\n",
        "DATA_HOME_DIR = './Dogs-vs-Cats/data'"
      ],
      "execution_count": 21,
      "outputs": []
    },
    {
      "cell_type": "code",
      "metadata": {
        "colab": {
          "base_uri": "https://localhost:8080/",
          "height": 36
        },
        "id": "CleQsrhFofN_",
        "outputId": "2076c6c2-1213-4663-dcf0-39b28da7cd0a"
      },
      "source": [
        "DATA_HOME_DIR"
      ],
      "execution_count": 22,
      "outputs": [
        {
          "output_type": "execute_result",
          "data": {
            "application/vnd.google.colaboratory.intrinsic+json": {
              "type": "string"
            },
            "text/plain": [
              "'./Dogs-vs-Cats/data'"
            ]
          },
          "metadata": {},
          "execution_count": 22
        }
      ]
    },
    {
      "cell_type": "code",
      "metadata": {
        "id": "tzk-ZfMYkq0W"
      },
      "source": [
        "# paths\n",
        "data_path = DATA_HOME_DIR \n",
        "split_train_path = data_path + '/train'\n",
        "# full_train_path = data_path + '/train_full/'\n",
        "valid_path = data_path + '/valid'\n",
        "test_path = DATA_HOME_DIR + '/test/test'\n",
        "saved_model_path =  './Dogs-vs-Cats/models'\n",
        "submission_path =  './Dogs-vs-Cats/submissions'\n",
        "\n",
        "# data\n",
        "batch_size = 8\n",
        "\n",
        "# model\n",
        "nb_runs = 1\n",
        "nb_aug = 3\n",
        "epochs = 5\n",
        "lr = 1e-4\n",
        "clip = 0.001\n",
        "archs = [\"resnet152\"]\n",
        "\n",
        "model_names = sorted(name for name in models.__dict__ if name.islower() and not name.startswith(\"__\"))\n",
        "best_prec1 = 0"
      ],
      "execution_count": 23,
      "outputs": []
    },
    {
      "cell_type": "code",
      "metadata": {
        "colab": {
          "base_uri": "https://localhost:8080/"
        },
        "id": "mpHbK1okk7cw",
        "outputId": "a35f6dec-76a5-4496-d896-53404c59fb65"
      },
      "source": [
        "model_names"
      ],
      "execution_count": 24,
      "outputs": [
        {
          "output_type": "execute_result",
          "data": {
            "text/plain": [
              "['_utils',\n",
              " 'alexnet',\n",
              " 'densenet',\n",
              " 'densenet121',\n",
              " 'densenet161',\n",
              " 'densenet169',\n",
              " 'densenet201',\n",
              " 'detection',\n",
              " 'googlenet',\n",
              " 'inception',\n",
              " 'inception_v3',\n",
              " 'mnasnet',\n",
              " 'mnasnet0_5',\n",
              " 'mnasnet0_75',\n",
              " 'mnasnet1_0',\n",
              " 'mnasnet1_3',\n",
              " 'mobilenet',\n",
              " 'mobilenet_v2',\n",
              " 'mobilenet_v3_large',\n",
              " 'mobilenet_v3_small',\n",
              " 'mobilenetv2',\n",
              " 'mobilenetv3',\n",
              " 'quantization',\n",
              " 'resnet',\n",
              " 'resnet101',\n",
              " 'resnet152',\n",
              " 'resnet18',\n",
              " 'resnet34',\n",
              " 'resnet50',\n",
              " 'resnext101_32x8d',\n",
              " 'resnext50_32x4d',\n",
              " 'segmentation',\n",
              " 'shufflenet_v2_x0_5',\n",
              " 'shufflenet_v2_x1_0',\n",
              " 'shufflenet_v2_x1_5',\n",
              " 'shufflenet_v2_x2_0',\n",
              " 'shufflenetv2',\n",
              " 'squeezenet',\n",
              " 'squeezenet1_0',\n",
              " 'squeezenet1_1',\n",
              " 'utils',\n",
              " 'vgg',\n",
              " 'vgg11',\n",
              " 'vgg11_bn',\n",
              " 'vgg13',\n",
              " 'vgg13_bn',\n",
              " 'vgg16',\n",
              " 'vgg16_bn',\n",
              " 'vgg19',\n",
              " 'vgg19_bn',\n",
              " 'video',\n",
              " 'wide_resnet101_2',\n",
              " 'wide_resnet50_2']"
            ]
          },
          "metadata": {},
          "execution_count": 24
        }
      ]
    },
    {
      "cell_type": "code",
      "metadata": {
        "id": "9MPLQKi2lJRb"
      },
      "source": [
        "def train(train_loader, model, criterion, optimizer, epoch):\n",
        "    batch_time = AverageMeter()\n",
        "    data_time = AverageMeter()\n",
        "    losses = AverageMeter()\n",
        "    acc = AverageMeter()\n",
        "    end = time.time()\n",
        "    \n",
        "    # switch to train mode\n",
        "    model.train()\n",
        "    \n",
        "    for i, (images, target) in enumerate(train_loader):\n",
        "        # measure data loading time\n",
        "        data_time.update(time.time() - end)\n",
        "\n",
        "        target = target.cuda()\n",
        "        image_var = torch.autograd.Variable(images)\n",
        "        label_var = torch.autograd.Variable(target)\n",
        "\n",
        "        # compute y_pred\n",
        "        y_pred = model(image_var)\n",
        "        loss = criterion(y_pred, label_var)\n",
        "\n",
        "        # measure accuracy and record loss\n",
        "        prec1, prec1 = accuracy(y_pred.data, target, topk=(1, 1))\n",
        "        losses.update(loss.data, images.size(0))\n",
        "        acc.update(prec1, images.size(0))\n",
        "\n",
        "        # compute gradient and do SGD step\n",
        "        optimizer.zero_grad()\n",
        "        loss.backward()\n",
        "        optimizer.step()\n",
        "\n",
        "        # measure elapsed time\n",
        "        batch_time.update(time.time() - end)\n",
        "        end = time.time()"
      ],
      "execution_count": 25,
      "outputs": []
    },
    {
      "cell_type": "code",
      "metadata": {
        "id": "NpRG-C1XlNGm"
      },
      "source": [
        "def validate(val_loader, model, criterion, epoch):\n",
        "    batch_time = AverageMeter()\n",
        "    losses = AverageMeter()\n",
        "    acc = AverageMeter()\n",
        "\n",
        "    # switch to evaluate mode\n",
        "    model.eval()\n",
        "\n",
        "    end = time.time()\n",
        "    for i, (images, labels) in enumerate(val_loader):\n",
        "        labels = labels.cuda()\n",
        "        image_var = torch.autograd.Variable(images)\n",
        "        label_var = torch.autograd.Variable(labels)\n",
        "\n",
        "        # compute y_pred\n",
        "        y_pred = model(image_var)\n",
        "        loss = criterion(y_pred, label_var)\n",
        "\n",
        "        # measure accuracy and record loss\n",
        "        prec1, temp_var = accuracy(y_pred.data, labels, topk=(1, 1))\n",
        "        losses.update(loss.data, images.size(0))\n",
        "        acc.update(prec1, images.size(0))\n",
        "\n",
        "        # measure elapsed time\n",
        "        batch_time.update(time.time() - end)\n",
        "        end = time.time()\n",
        "\n",
        "    print('   * EPOCH {epoch} | Accuracy: {acc.avg:.3f} | Loss: {losses.avg:.3f}'.format(epoch=epoch,\n",
        "                                                                                         acc=acc,\n",
        "                                                                                         losses=losses))\n",
        "\n",
        "    return acc.avg"
      ],
      "execution_count": 26,
      "outputs": []
    },
    {
      "cell_type": "code",
      "metadata": {
        "id": "NXN9CycSlSwi"
      },
      "source": [
        "def test(test_loader, model):\n",
        "    csv_map = collections.defaultdict(float)\n",
        "    \n",
        "    # switch to evaluate mode\n",
        "    model.eval()\n",
        "    \n",
        "    for aug in range(nb_aug):\n",
        "        print(\"   * Predicting on test augmentation {}\".format(aug + 1))\n",
        "        \n",
        "        for i, (images, filepath) in enumerate(test_loader):\n",
        "            # pop extension, treat as id to map\n",
        "            filepath = os.path.splitext(os.path.basename(filepath[0]))[0]\n",
        "            filepath = int(filepath)\n",
        "\n",
        "            image_var = torch.autograd.Variable(images)\n",
        "            y_pred = model(image_var)\n",
        "            # get the index of the max log-probability\n",
        "            smax = nn.Softmax()\n",
        "            smax_out = smax(y_pred)[0]\n",
        "            cat_prob = smax_out.data[0]\n",
        "            dog_prob = smax_out.data[1]\n",
        "            prob = dog_prob\n",
        "            if cat_prob > dog_prob:\n",
        "                prob = 1 - cat_prob\n",
        "            prob = np.around(prob.cpu(), decimals=4)\n",
        "            prob = np.clip(prob, clip, 1-clip)\n",
        "            csv_map[filepath] += (prob / nb_aug)\n",
        "\n",
        "    sub_fn = submission_path + '{0}epoch_{1}clip_{2}runs'.format(epochs, clip, nb_runs)\n",
        "    \n",
        "    for arch in archs:\n",
        "        sub_fn += \"_{}\".format(arch)\n",
        "        \n",
        "    print(\"Writing Predictions to CSV...\")\n",
        "    with open(sub_fn + '.csv', 'w') as csvfile:\n",
        "        fieldnames = ['id', 'label']\n",
        "        csv_w = csv.writer(csvfile)\n",
        "        csv_w.writerow(('id', 'label'))\n",
        "        for row in sorted(csv_map.items()):\n",
        "            csv_w.writerow(row)\n",
        "    print(\"Done.\")\n",
        "# In [7]:\n",
        "# def save_checkpoint("
      ],
      "execution_count": 27,
      "outputs": []
    },
    {
      "cell_type": "code",
      "metadata": {
        "id": "06fqrCgylYE9"
      },
      "source": [
        "def save_checkpoint(state, is_best, filename='checkpoint.pth.tar'):\n",
        "    torch.save(state, filename)\n",
        "    if is_best:\n",
        "        shutil.copyfile(filename, 'model_best.pth.tar')"
      ],
      "execution_count": 28,
      "outputs": []
    },
    {
      "cell_type": "code",
      "metadata": {
        "id": "zUPe-955la_R"
      },
      "source": [
        "class AverageMeter(object):\n",
        "    \"\"\"Computes and stores the average and current value\"\"\"\n",
        "\n",
        "    def __init__(self):\n",
        "        self.reset()\n",
        "\n",
        "    def reset(self):\n",
        "        self.val = 0\n",
        "        self.avg = 0\n",
        "        self.sum = 0\n",
        "        self.count = 0\n",
        "\n",
        "    def update(self, val, n=1):\n",
        "        self.val = val\n",
        "        self.sum += val * n\n",
        "        self.count += n\n",
        "        self.avg = self.sum / self.count"
      ],
      "execution_count": 29,
      "outputs": []
    },
    {
      "cell_type": "code",
      "metadata": {
        "id": "JxBW_an1ld1o"
      },
      "source": [
        "\n",
        "def adjust_learning_rate(optimizer, epoch):\n",
        "    \"\"\"Sets the learning rate to the initial LR decayed by 10 every 30 epochs\"\"\"\n",
        "    global lr\n",
        "    lr = lr * (0.1**(epoch // 30))\n",
        "    for param_group in optimizer.state_dict()['param_groups']:\n",
        "        param_group['lr'] = lr\n",
        "\n",
        "\n",
        "def accuracy(y_pred, y_actual, topk=(1, )):\n",
        "    \"\"\"Computes the precision@k for the specified values of k\"\"\"\n",
        "    maxk = max(topk)\n",
        "    batch_size = y_actual.size(0)\n",
        "\n",
        "    _, pred = y_pred.topk(maxk, 1, True, True)\n",
        "    pred = pred.t()\n",
        "    correct = pred.eq(y_actual.view(1, -1).expand_as(pred))\n",
        "\n",
        "    res = []\n",
        "    for k in topk:\n",
        "        correct_k = correct[:k].view(-1).float().sum(0)\n",
        "        res.append(correct_k.mul_(100.0 / batch_size))\n",
        "\n",
        "    return res"
      ],
      "execution_count": 30,
      "outputs": []
    },
    {
      "cell_type": "code",
      "metadata": {
        "id": "9Z22_ExhlgF5"
      },
      "source": [
        "class TestImageFolder(data.Dataset):\n",
        "    def __init__(self, root, transform=None):\n",
        "        images = []\n",
        "        for filename in sorted(glob.glob(test_path + \"*.jpg\")):\n",
        "            images.append('{}'.format(filename))\n",
        "\n",
        "        self.root = root\n",
        "        self.imgs = images\n",
        "        self.transform = transform\n",
        "\n",
        "    def __getitem__(self, index):\n",
        "        filename = self.imgs[index]\n",
        "        img = Image.open(os.path.join(self.root, filename))\n",
        "        if self.transform is not None:\n",
        "            img = self.transform(img)\n",
        "        return img, filename\n",
        "\n",
        "    def __len__(self):\n",
        "        return len(self.imgs)"
      ],
      "execution_count": 31,
      "outputs": []
    },
    {
      "cell_type": "code",
      "metadata": {
        "id": "BNQUlIAhljF7"
      },
      "source": [
        "def shear(img):\n",
        "    width, height = img.size\n",
        "    m = random.uniform(-0.05, 0.05)\n",
        "    xshift = abs(m) * width\n",
        "    new_width = width + int(round(xshift))\n",
        "    img = img.transform((new_width, height), Image.AFFINE,\n",
        "                        (1, m, -xshift if m > 0 else 0, 0, 1, 0),\n",
        "                        Image.BICUBIC)\n",
        "    return img"
      ],
      "execution_count": 32,
      "outputs": []
    },
    {
      "cell_type": "code",
      "metadata": {
        "id": "4u_AVeVLllFz"
      },
      "source": [
        "def main(mode=\"train\", resume=False):\n",
        "    \n",
        "    global best_prec1\n",
        "    \n",
        "    for arch in archs:\n",
        "\n",
        "        # create model\n",
        "        print(\"=> Starting {0} on '{1}' model\".format(mode, arch))\n",
        "        model = models.__dict__[arch](pretrained=True)\n",
        "        # Don't update non-classifier learned features in the pretrained networks\n",
        "        for param in model.parameters():\n",
        "            param.requires_grad = False\n",
        "        # Replace the last fully-connected layer\n",
        "        # Parameters of newly constructed modules have requires_grad=True by default\n",
        "        # Final dense layer needs to replaced with the previous out chans, and number of classes\n",
        "        # in this case -- resnet 101 - it's 2048 with two classes (cats and dogs)\n",
        "        model.fc = nn.Linear(2048, 2)\n",
        "\n",
        "        if arch.startswith('alexnet') or arch.startswith('vgg'):\n",
        "            model.features = torch.nn.DataParallel(model.features)\n",
        "            model.cuda()\n",
        "        else:\n",
        "            model = torch.nn.DataParallel(model).cuda()\n",
        "            \n",
        "        # optionally resume from a checkpoint\n",
        "        if resume:\n",
        "            if os.path.isfile(resume):\n",
        "                print(\"=> Loading checkpoint '{}'\".format(resume))\n",
        "                checkpoint = torch.load(resume)\n",
        "                start_epoch = checkpoint['epoch']\n",
        "                best_prec1 = checkpoint['best_prec1']\n",
        "                model.load_state_dict(checkpoint['state_dict'])\n",
        "                print(\"=> Loaded checkpoint (epoch {})\".format(checkpoint['epoch']))\n",
        "            else:\n",
        "                print(\"=> No checkpoint found at '{}'\".format(args.resume))\n",
        "\n",
        "        cudnn.benchmark = True\n",
        "\n",
        "        # Data loading code\n",
        "        traindir = split_train_path\n",
        "        valdir = valid_path\n",
        "        testdir = test_path\n",
        "\n",
        "        normalize = transforms.Normalize(mean=[0.485, 0.456, 0.406], std=[0.229, 0.224, 0.225])\n",
        "\n",
        "        train_loader = data.DataLoader(\n",
        "            datasets.ImageFolder(traindir,\n",
        "                                 transforms.Compose([\n",
        "                                     # transforms.Lambda(shear),\n",
        "                                     transforms.RandomResizedCrop(224),\n",
        "                                     transforms.RandomHorizontalFlip(),\n",
        "                                     transforms.ToTensor(),\n",
        "                                     normalize,\n",
        "                                 ])),\n",
        "            batch_size=batch_size,\n",
        "            shuffle=True,\n",
        "            num_workers=4,\n",
        "            pin_memory=True)\n",
        "\n",
        "        val_loader = data.DataLoader(\n",
        "            datasets.ImageFolder(valdir,\n",
        "                                 transforms.Compose([\n",
        "                                     transforms.Resize(256),\n",
        "                                     transforms.CenterCrop(224),\n",
        "                                     transforms.ToTensor(),\n",
        "                                     normalize,\n",
        "                                 ])),\n",
        "            batch_size=batch_size,\n",
        "            shuffle=True,\n",
        "            num_workers=4,\n",
        "            pin_memory=True)\n",
        "\n",
        "        test_loader = data.DataLoader(\n",
        "            TestImageFolder(testdir,\n",
        "                            transforms.Compose([\n",
        "                                # transforms.Lambda(shear),\n",
        "                                transforms.Resize(256),\n",
        "                                transforms.CenterCrop(224),\n",
        "                                transforms.RandomHorizontalFlip(),\n",
        "                                transforms.ToTensor(),\n",
        "                                normalize,\n",
        "                            ])),\n",
        "            batch_size=1,\n",
        "            shuffle=False,\n",
        "            num_workers=1,\n",
        "            pin_memory=False)\n",
        "        \n",
        "        \n",
        "        if mode == \"test\":\n",
        "            test(test_loader, model)\n",
        "            return\n",
        "        \n",
        "        # define loss function (criterion) and pptimizer\n",
        "        criterion = nn.CrossEntropyLoss().cuda()\n",
        "        \n",
        "        if mode == \"validate\":\n",
        "            validate(val_loader, model, criterion, 0)\n",
        "            return\n",
        "\n",
        "        optimizer = optim.Adam(model.module.fc.parameters(), lr, weight_decay=1e-4)\n",
        "\n",
        "        for epoch in range(epochs):\n",
        "            adjust_learning_rate(optimizer, epoch)\n",
        "\n",
        "            # train for one epoch\n",
        "            train(train_loader, model, criterion, optimizer, epoch)\n",
        "\n",
        "            # evaluate on validation set\n",
        "            prec1 = validate(val_loader, model, criterion, epoch)\n",
        "\n",
        "            # remember best Accuracy and save checkpoint\n",
        "            is_best = prec1 > best_prec1\n",
        "            best_prec1 = max(prec1, best_prec1)\n",
        "            save_checkpoint({\n",
        "                'epoch': epoch + 1,\n",
        "                'arch': arch,\n",
        "                'state_dict': model.state_dict(),\n",
        "                'best_prec1': best_prec1,\n",
        "            }, is_best)"
      ],
      "execution_count": 33,
      "outputs": []
    },
    {
      "cell_type": "code",
      "metadata": {
        "colab": {
          "base_uri": "https://localhost:8080/"
        },
        "id": "bMEqN1QCATci",
        "outputId": "3a55cd8c-0ede-4f17-c285-820b0009abd8"
      },
      "source": [
        "main(mode=\"train\")"
      ],
      "execution_count": 36,
      "outputs": [
        {
          "metadata": {
            "tags": null
          },
          "name": "stdout",
          "output_type": "stream",
          "text": [
            "=> Starting train on 'resnet152' model\n"
          ]
        },
        {
          "metadata": {
            "tags": null
          },
          "name": "stderr",
          "output_type": "stream",
          "text": [
            "/usr/local/lib/python3.7/dist-packages/torch/utils/data/dataloader.py:481: UserWarning: This DataLoader will create 4 worker processes in total. Our suggested max number of worker in current system is 2, which is smaller than what this DataLoader is going to create. Please be aware that excessive worker creation might get DataLoader running slow or even freeze, lower the worker number to avoid potential slowness/freeze if necessary.\n",
            "  cpuset_checked))\n"
          ]
        },
        {
          "output_type": "stream",
          "name": "stdout",
          "text": [
            "   * EPOCH 0 | Accuracy: 98.750 | Loss: 0.051\n",
            "   * EPOCH 1 | Accuracy: 98.950 | Loss: 0.044\n",
            "   * EPOCH 2 | Accuracy: 98.750 | Loss: 0.045\n",
            "   * EPOCH 3 | Accuracy: 98.850 | Loss: 0.044\n",
            "   * EPOCH 4 | Accuracy: 98.800 | Loss: 0.041\n"
          ]
        }
      ]
    },
    {
      "cell_type": "code",
      "metadata": {
        "colab": {
          "base_uri": "https://localhost:8080/"
        },
        "id": "Ki983OYtDQPK",
        "outputId": "ced0d049-be3e-44ba-8399-6f5efc531921"
      },
      "source": [
        "main(mode=\"validate\", resume='model_best.pth.tar')"
      ],
      "execution_count": 37,
      "outputs": [
        {
          "output_type": "stream",
          "name": "stdout",
          "text": [
            "=> Starting validate on 'resnet152' model\n",
            "=> Loading checkpoint 'model_best.pth.tar'\n",
            "=> Loaded checkpoint (epoch 2)\n"
          ]
        },
        {
          "output_type": "stream",
          "name": "stderr",
          "text": [
            "/usr/local/lib/python3.7/dist-packages/torch/utils/data/dataloader.py:481: UserWarning: This DataLoader will create 4 worker processes in total. Our suggested max number of worker in current system is 2, which is smaller than what this DataLoader is going to create. Please be aware that excessive worker creation might get DataLoader running slow or even freeze, lower the worker number to avoid potential slowness/freeze if necessary.\n",
            "  cpuset_checked))\n"
          ]
        },
        {
          "output_type": "stream",
          "name": "stdout",
          "text": [
            "   * EPOCH 0 | Accuracy: 98.950 | Loss: 0.044\n"
          ]
        }
      ]
    },
    {
      "cell_type": "code",
      "metadata": {
        "id": "6L6PKWUAAS0l"
      },
      "source": [
        ""
      ],
      "execution_count": 37,
      "outputs": []
    },
    {
      "cell_type": "code",
      "metadata": {
        "colab": {
          "base_uri": "https://localhost:8080/"
        },
        "id": "gzf_-fJAOjax",
        "outputId": "16a40740-70cc-4fe3-aa57-598e9b17aa11"
      },
      "source": [
        "main(mode=\"test\", resume='model_best.pth.tar')"
      ],
      "execution_count": 38,
      "outputs": [
        {
          "output_type": "stream",
          "name": "stdout",
          "text": [
            "=> Starting test on 'resnet152' model\n",
            "=> Loading checkpoint 'model_best.pth.tar'\n",
            "=> Loaded checkpoint (epoch 2)\n",
            "   * Predicting on test augmentation 1\n"
          ]
        },
        {
          "output_type": "stream",
          "name": "stderr",
          "text": [
            "/usr/local/lib/python3.7/dist-packages/torch/utils/data/dataloader.py:481: UserWarning: This DataLoader will create 4 worker processes in total. Our suggested max number of worker in current system is 2, which is smaller than what this DataLoader is going to create. Please be aware that excessive worker creation might get DataLoader running slow or even freeze, lower the worker number to avoid potential slowness/freeze if necessary.\n",
            "  cpuset_checked))\n"
          ]
        },
        {
          "output_type": "stream",
          "name": "stdout",
          "text": [
            "   * Predicting on test augmentation 2\n",
            "   * Predicting on test augmentation 3\n",
            "Writing Predictions to CSV...\n",
            "Done.\n"
          ]
        }
      ]
    },
    {
      "cell_type": "code",
      "metadata": {
        "id": "r1G4FMcSO6GV"
      },
      "source": [
        ""
      ],
      "execution_count": null,
      "outputs": []
    }
  ]
}